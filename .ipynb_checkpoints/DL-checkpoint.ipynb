{
 "cells": [
  {
   "cell_type": "code",
   "execution_count": 56,
   "id": "fifteen-communications",
   "metadata": {},
   "outputs": [],
   "source": [
    "import pandas as pd\n",
    "import numpy as np\n",
    "import seaborn as sns\n",
    "import matplotlib.pyplot as plt\n",
    "import sys\n",
    "import re\n",
    "from sklearn.preprocessing import StandardScaler\n",
    "from sklearn.metrics import classification_report,confusion_matrix,ConfusionMatrixDisplay\n",
    "from sklearn.model_selection import train_test_split\n",
    "import codecs\n",
    "from sklearn.feature_extraction.text import CountVectorizer\n",
    "import tensorflow as tf\n",
    "from tensorflow import keras\n",
    "from tensorflow.keras.layers import Dense,Conv1D,InputLayer,Dropout\n",
    "from gensim.models import Word2Vec, FastText"
   ]
  },
  {
   "cell_type": "code",
   "execution_count": 121,
   "id": "drawn-provision",
   "metadata": {},
   "outputs": [],
   "source": [
    "with codecs.open('zola.txt', encoding='utf-8') as f:\n",
    "    zola = [line.strip() for line in f]\n",
    "    zola=\" \".join(zola)\n",
    "    zola = re.split(r\"[\\!\\?\\.]+\",zola)\n",
    "\n",
    "with codecs.open('hugo.txt', encoding='utf-8') as f:\n",
    "    hugo = [line.strip() for line in f]\n",
    "    hugo=\" \".join(hugo)\n",
    "    hugo = re.split(r\"[\\!\\?\\.]+\",hugo)\n",
    "    \n",
    "with codecs.open('proust.txt', encoding='utf-8') as f:\n",
    "    proust = [line.strip() for line in f]\n",
    "    proust=\" \".join(proust)\n",
    "    proust = re.split(r\"[\\!\\?\\.]+\",proust)\n",
    "    \n",
    "with codecs.open('chateaubriand.txt', encoding='utf-8') as f:\n",
    "    chateaubriand = [line.strip() for line in f]\n",
    "    chateaubriand=\" \".join(chateaubriand)\n",
    "    chateaubriand = re.split(r\"[\\!\\?\\.]+\",chateaubriand)\n",
    "    \n",
    "with codecs.open('fayette.txt', encoding='utf-8') as f:\n",
    "    fayette = [line.strip() for line in f]\n",
    "    fayette=\" \".join(fayette)\n",
    "    fayette = re.split(r\"[\\!\\?\\.]+\",fayette)\n",
    "\n",
    "with codecs.open('verne.txt', encoding='utf-8') as f:\n",
    "    verne = [line.strip() for line in f]\n",
    "    verne=\" \".join(verne)\n",
    "    verne = re.split(r\"[\\!\\?\\.]+\",verne)\n",
    "    \n",
    "    \n",
    "with codecs.open('testzolaargent.txt', encoding='utf-8') as f:\n",
    "    zolatest = [line.strip() for line in f]\n",
    "    zolatest=\" \".join(zolatest)\n",
    "    zolatest = re.split(r\"[\\!\\?\\.]+\",zolatest)\n",
    "\n",
    "with codecs.open('testhugohommequirit.txt', encoding='utf-8') as f:\n",
    "    hugotest = [line.strip() for line in f]\n",
    "    hugotest=\" \".join(hugotest)\n",
    "    hugotest = re.split(r\"[\\!\\?\\.]+\",hugotest)\n",
    "    \n",
    "with codecs.open('testproustguermantes.txt', encoding='utf-8') as f:\n",
    "    prousttest = [line.strip() for line in f]\n",
    "    prousttest=\" \".join(prousttest)\n",
    "    prousttest = re.split(r\"[\\!\\?\\.]+\",prousttest)\n",
    "    \n",
    "with codecs.open('testchateaubriandrancé.txt', encoding='utf-8') as f:\n",
    "    chateaubriandtest = [line.strip() for line in f]\n",
    "    chateaubriandtest=\" \".join(chateaubriandtest)\n",
    "    chateaubriandtest = re.split(r\"[\\!\\?\\.]+\",chateaubriandtest)\n",
    "    \n",
    "with codecs.open('testfayettemontpensier.txt', encoding='utf-8') as f:\n",
    "    fayettetest = [line.strip() for line in f]\n",
    "    fayettetest=\" \".join(fayettetest)\n",
    "    fayettetest = re.split(r\"[\\!\\?\\.]+\",fayettetest)\n",
    "    \n",
    "with codecs.open('testvernevoyage.txt', encoding='utf-8') as f:\n",
    "    vernetest = [line.strip() for line in f]\n",
    "    vernetest=\" \".join(vernetest)\n",
    "    vernetest = re.split(r\"[\\!\\?\\.]+\",vernetest)\n",
    "#phrases exclamatives, M. etc"
   ]
  },
  {
   "cell_type": "code",
   "execution_count": 122,
   "id": "imported-niagara",
   "metadata": {},
   "outputs": [],
   "source": [
    "auteurs = { \"zola\":0, \"proust\":1, \"chateaubriand\":2, \"fayette\":3, \"verne\":4, \"hugo\":5}\n",
    "df1 = pd.DataFrame({\"texte\":zola,\"auteur\":auteurs[\"zola\"],\"test\":\"train\"})\n",
    "df2=pd.DataFrame({\"texte\":hugo,\"auteur\":auteurs[\"hugo\"],\"test\":\"train\"})\n",
    "df3=pd.DataFrame({\"texte\":proust,\"auteur\":auteurs[\"proust\"],\"test\":\"train\"})\n",
    "df4=pd.DataFrame({\"texte\":chateaubriand,\"auteur\":auteurs[\"chateaubriand\"],\"test\":\"train\"})\n",
    "df5=pd.DataFrame({\"texte\":fayette,\"auteur\":auteurs[\"fayette\"],\"test\":\"train\"})\n",
    "df6=pd.DataFrame({\"texte\":verne,\"auteur\":auteurs[\"verne\"],\"test\":\"train\"})\n",
    "\n",
    "dft1 = pd.DataFrame({\"texte\":zolatest,\"auteur\":auteurs[\"zola\"],\"test\":\"test\"})\n",
    "dft2=pd.DataFrame({\"texte\":hugotest,\"auteur\":auteurs[\"hugo\"],\"test\":\"test\"})\n",
    "dft3=pd.DataFrame({\"texte\":prousttest,\"auteur\":auteurs[\"proust\"],\"test\":\"test\"})\n",
    "dft4=pd.DataFrame({\"texte\":chateaubriandtest,\"auteur\":auteurs[\"chateaubriand\"],\"test\":\"test\"})\n",
    "dft5=pd.DataFrame({\"texte\":fayettetest,\"auteur\":auteurs[\"fayette\"],\"test\":\"test\"})\n",
    "dft6=pd.DataFrame({\"texte\":vernetest,\"auteur\":auteurs[\"verne\"],\"test\":\"test\"})\n",
    "\n",
    "df=pd.concat([df1, df2, df3,df4, df5, df6, dft1, dft2, dft3,dft4, dft5, dft6])\n",
    "df[\"texte\"] = df[\"texte\"].str.replace(r'( )\\1*', ' ', regex=True)\n",
    "df[\"longchar\"] = df[\"texte\"].str.len()\n",
    "df[\"avgmot\"] = (df[\"texte\"].str.len()+1) / (df[\"texte\"].str.count(\" \")+1)\n",
    "df[\"nbmot\"] = df[\"texte\"].str.count(\" \")+1\n",
    "df[\"nbvirgule\"] = df[\"texte\"].str.count(\",\")\n",
    "df[\"texte\"] = df.replace({'texte' : { ',' : '', ':' : '', '!' : '' }})\n",
    "\n",
    "auteurs = { \"zola\":0, \"proust\":1, \"chateaubriand\":2, \"fayette\":3, \"verne\":4}\n",
    "df=df[df[\"auteur\"].isin(auteurs.values())]"
   ]
  },
  {
   "cell_type": "code",
   "execution_count": 123,
   "id": "theoretical-editing",
   "metadata": {},
   "outputs": [],
   "source": [
    "x = [element.split(' ') for element in list(df[df[\"test\"] == \"train\"][\"texte\"])]\n",
    "x_testmot = [element.split(' ') for element in list(df[df[\"test\"] == \"test\"][\"texte\"])]"
   ]
  },
  {
   "cell_type": "code",
   "execution_count": 124,
   "id": "spanish-peeing",
   "metadata": {},
   "outputs": [
    {
     "data": {
      "text/plain": [
       "1    8411\n",
       "0    6878\n",
       "4    5275\n",
       "2    2489\n",
       "3     354\n",
       "Name: auteur, dtype: int64"
      ]
     },
     "execution_count": 124,
     "metadata": {},
     "output_type": "execute_result"
    }
   ],
   "source": [
    "df[df[\"test\"] == \"test\"][\"auteur\"].value_counts()"
   ]
  },
  {
   "cell_type": "code",
   "execution_count": 137,
   "id": "broad-point",
   "metadata": {
    "scrolled": true
   },
   "outputs": [],
   "source": [
    "taille_vec = 200\n",
    "vec = Word2Vec(x, min_count=10,vector_size=taille_vec,sg=1)\n",
    "def get_vect(word, model):\n",
    "    try:\n",
    "        return vec.wv[word]\n",
    "    except KeyError:\n",
    "        return np.zeros((vec.vector_size,))\n",
    "\n",
    "    \n",
    "def sum_vectors(phrase, model):\n",
    "    return sum(get_vect(w, model) for w in phrase)\n",
    "    \n",
    "def word2vec_features(X, model):\n",
    "    feats = np.vstack([sum_vectors(p, model) for p in X])\n",
    "    return feats\n",
    "xsum = word2vec_features(x, vec)\n",
    "x_test = word2vec_features(x_testmot, vec)\n",
    "\n",
    "y=df[df[\"test\"] == \"train\"][\"auteur\"].to_numpy()\n",
    "y_test=df[df[\"test\"] == \"test\"][\"auteur\"].to_numpy()\n",
    "\n",
    "xsum=np.c_[ xsum,df[df[\"test\"] == \"train\"][\"longchar\"] ]\n",
    "xsum=np.c_[ xsum,df[df[\"test\"] == \"train\"][\"nbmot\"] ]\n",
    "xsum=np.c_[ xsum,df[df[\"test\"] == \"train\"][\"nbvirgule\"] ]\n",
    "xsum=np.c_[ xsum,df[df[\"test\"] == \"train\"][\"avgmot\"] ]\n",
    "#for col in range(matcv.shape[1]):\n",
    "#    xsum=np.c_[ xsum,df[df[\"test\"] == \"train\"][col] ]\n",
    "\n",
    "\n",
    "x_test=np.c_[ x_test,df[df[\"test\"] == \"test\"][\"longchar\"] ]\n",
    "x_test=np.c_[ x_test,df[df[\"test\"] == \"test\"][\"nbmot\"] ]\n",
    "x_test=np.c_[ x_test,df[df[\"test\"] == \"test\"][\"nbvirgule\"] ]\n",
    "x_test=np.c_[ x_test,df[df[\"test\"] == \"test\"][\"avgmot\"] ]\n",
    "#for col in range(matcv.shape[1]):\n",
    "#    x_test=np.c_[ x_test,df[df[\"test\"] == \"test\"][col] ]"
   ]
  },
  {
   "cell_type": "code",
   "execution_count": 138,
   "id": "considerable-original",
   "metadata": {},
   "outputs": [],
   "source": [
    "model = keras.Sequential()\n",
    "model.add(InputLayer(xsum[0].shape))\n",
    "model.add(Dense(128,activation='relu'))\n",
    "model.add(Dropout(.2))\n",
    "model.add(Dense(512,activation='relu'))\n",
    "model.add(Dropout(.2))\n",
    "model.add(Dense(64,activation='relu'))\n",
    "model.add(Dropout(.2))\n",
    "model.add(Dense(32,activation='relu'))\n",
    "model.add(Dense(len(auteurs),activation='softmax'))"
   ]
  },
  {
   "cell_type": "code",
   "execution_count": 139,
   "id": "taken-discussion",
   "metadata": {
    "scrolled": true
   },
   "outputs": [
    {
     "name": "stdout",
     "output_type": "stream",
     "text": [
      "Epoch 1/10\n",
      "2663/2663 [==============================] - 7s 2ms/step - loss: 0.9634 - acc: 0.6323 - val_loss: 1.1389 - val_acc: 0.5366\n",
      "Epoch 2/10\n",
      "2663/2663 [==============================] - 6s 2ms/step - loss: 0.7776 - acc: 0.7089 - val_loss: 1.1189 - val_acc: 0.5328\n",
      "Epoch 3/10\n",
      "2663/2663 [==============================] - 6s 2ms/step - loss: 0.7453 - acc: 0.7202 - val_loss: 1.0597 - val_acc: 0.5746\n",
      "Epoch 4/10\n",
      "2663/2663 [==============================] - 6s 2ms/step - loss: 0.7229 - acc: 0.7282 - val_loss: 1.0595 - val_acc: 0.5815\n",
      "Epoch 5/10\n",
      "2663/2663 [==============================] - 6s 2ms/step - loss: 0.7094 - acc: 0.7340 - val_loss: 1.0558 - val_acc: 0.5698\n",
      "Epoch 6/10\n",
      "2663/2663 [==============================] - 6s 2ms/step - loss: 0.6969 - acc: 0.7385 - val_loss: 1.0305 - val_acc: 0.5941\n",
      "Epoch 7/10\n",
      "2663/2663 [==============================] - 6s 2ms/step - loss: 0.6897 - acc: 0.7406 - val_loss: 1.0523 - val_acc: 0.5621\n",
      "Epoch 8/10\n",
      "2663/2663 [==============================] - 6s 2ms/step - loss: 0.6837 - acc: 0.7421 - val_loss: 0.9901 - val_acc: 0.5986\n",
      "Epoch 9/10\n",
      "2663/2663 [==============================] - 6s 2ms/step - loss: 0.6760 - acc: 0.7451 - val_loss: 1.0599 - val_acc: 0.5946\n",
      "Epoch 10/10\n",
      "2663/2663 [==============================] - 6s 2ms/step - loss: 0.6724 - acc: 0.7464 - val_loss: 1.0265 - val_acc: 0.5812\n"
     ]
    },
    {
     "data": {
      "image/png": "[encoded data removed]",
      "text/plain": [
       "<Figure size 432x288 with 1 Axes>"
      ]
     },
     "metadata": {
      "needs_background": "light"
     },
     "output_type": "display_data"
    }
   ],
   "source": [
    "model.compile(optimizer=\"adam\",loss=\"sparse_categorical_crossentropy\",metrics=\"acc\")\n",
    "\n",
    "history = model.fit(xsum,y,epochs=10,validation_data=(x_test, y_test) )\n",
    "plt.plot(history.history['acc'])\n",
    "plt.plot(history.history['val_acc'])\n",
    "plt.title('model accuracy')\n",
    "plt.ylabel('accuracy')\n",
    "plt.xlabel('epoch')\n",
    "plt.legend(['train', 'val'], loc='upper left')\n",
    "plt.show()"
   ]
  },
  {
   "cell_type": "code",
   "execution_count": 136,
   "id": "geological-deployment",
   "metadata": {},
   "outputs": [
    {
     "data": {
      "image/png": "[encoded data removed]",
      "text/plain": [
       "<Figure size 432x288 with 2 Axes>"
      ]
     },
     "metadata": {
      "needs_background": "light"
     },
     "output_type": "display_data"
    }
   ],
   "source": [
    "liste_auteurs = [auteur for auteur in auteurs.keys()]\n",
    "ax=ConfusionMatrixDisplay.from_predictions(y_test,model.predict(x_test).argmax(-1),normalize=\"true\")\n"
   ]
  },
  {
   "cell_type": "code",
   "execution_count": 120,
   "id": "utility-january",
   "metadata": {},
   "outputs": [
    {
     "data": {
      "text/plain": [
       "{'zola': 0, 'proust': 1, 'chateaubriand': 2, 'fayette': 3, 'verne': 4}"
      ]
     },
     "execution_count": 120,
     "metadata": {},
     "output_type": "execute_result"
    }
   ],
   "source": [
    "auteurs"
   ]
  },
  {
   "cell_type": "code",
   "execution_count": 29,
   "id": "opposed-scientist",
   "metadata": {},
   "outputs": [],
   "source": [
    "phrase = 'Ils voulaient la fin des oppressions, la fin des tyrannies, la fin du glaive, le travail pour l’homme, l’instruction pour l’enfant, la douceur sociale pour la femme, la liberté, l’égalité, la fraternité, le pain pour tous, l’idée pour tous, l’édénisation du monde, le Progrès'\n",
    "\n",
    "longueur=len(phrase)\n",
    "virg=phrase.count(\",\")\n",
    "\n",
    "phrase=phrase.split(' ')\n",
    "mots=len(phrase)\n",
    "avgmot=longueur+1/mots+1\n",
    "apred=sum_vectors(phrase,vec)\n",
    "\n",
    "apred=np.append(apred, longueur)\n",
    "apred=np.append(apred, mots)\n",
    "apred=np.append(apred, virg)\n",
    "apred=np.append(apred, avgmot)\n",
    "apred=apred.reshape((-1,204))"
   ]
  },
  {
   "cell_type": "code",
   "execution_count": 30,
   "id": "brazilian-ending",
   "metadata": {},
   "outputs": [
    {
     "name": "stdout",
     "output_type": "stream",
     "text": [
      "hugo 100.0 %\n",
      "zola 0.0 %\n",
      "proust 0.0 %\n",
      "chateaubriand 0.0 %\n"
     ]
    }
   ],
   "source": [
    "np.set_printoptions(suppress=True)\n",
    "for i,pred in enumerate(model.predict(apred)[0]):\n",
    "    print( list(auteurs.keys())[i], np.around(pred*100),\"%\" )"
   ]
  },
  {
   "cell_type": "code",
   "execution_count": 212,
   "id": "specialized-pixel",
   "metadata": {},
   "outputs": [
    {
     "data": {
      "text/plain": [
       "1    19915\n",
       "0    15229\n",
       "2     4061\n",
       "Name: auteur, dtype: int64"
      ]
     },
     "execution_count": 212,
     "metadata": {},
     "output_type": "execute_result"
    }
   ],
   "source": [
    "df[\"auteur\"].value_counts()"
   ]
  },
  {
   "cell_type": "code",
   "execution_count": null,
   "id": "greatest-explosion",
   "metadata": {},
   "outputs": [],
   "source": []
  }
 ],
 "metadata": {
  "kernelspec": {
   "display_name": "Python 3",
   "language": "python",
   "name": "python3"
  },
  "language_info": {
   "codemirror_mode": {
    "name": "ipython",
    "version": 3
   },
   "file_extension": ".py",
   "mimetype": "text/x-python",
   "name": "python",
   "nbconvert_exporter": "python",
   "pygments_lexer": "ipython3",
   "version": "3.7.0"
  }
 },
 "nbformat": 4,
 "nbformat_minor": 5
}
