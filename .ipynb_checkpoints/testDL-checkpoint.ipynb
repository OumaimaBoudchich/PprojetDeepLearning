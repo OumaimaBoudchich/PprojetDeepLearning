{
 "cells": [
  {
   "cell_type": "code",
   "execution_count": 1,
   "id": "fifteen-communications",
   "metadata": {},
   "outputs": [],
   "source": [
    "import pandas as pd\n",
    "import numpy as np\n",
    "import seaborn as sns\n",
    "import matplotlib.pyplot as plt\n",
    "import sys\n",
    "from sklearn.preprocessing import StandardScaler\n",
    "from sklearn.metrics import classification_report,confusion_matrix,ConfusionMatrixDisplay\n",
    "from sklearn.model_selection import train_test_split\n",
    "import codecs\n",
    "from sklearn.feature_extraction.text import CountVectorizer\n",
    "import tensorflow as tf\n",
    "from tensorflow import keras\n",
    "from tensorflow.keras.layers import Dense,Conv1D,InputLayer,Dropout\n",
    "from gensim.models import Word2Vec, FastText"
   ]
  },
  {
   "cell_type": "code",
   "execution_count": 70,
   "id": "drawn-provision",
   "metadata": {},
   "outputs": [],
   "source": [
    "with codecs.open('zola.txt', encoding='utf-8') as f:\n",
    "    zola = [line.strip() for line in f]\n",
    "    zola=\" \".join(zola)\n",
    "    zola = zola.split(\".\")\n",
    "\n",
    "with codecs.open('hugo.txt', encoding='utf-8') as f:\n",
    "    hugo = [line.strip() for line in f]\n",
    "    hugo=\" \".join(hugo)\n",
    "    hugo = hugo.split(\".\")\n",
    "    \n",
    "with codecs.open('proust.txt', encoding='utf-8') as f:\n",
    "    proust = [line.strip() for line in f]\n",
    "    proust=\" \".join(proust)\n",
    "    proust = proust.split(\".\")\n",
    "    \n",
    "with codecs.open('chateaubriand.txt', encoding='utf-8') as f:\n",
    "    chateaubriand = [line.strip() for line in f]\n",
    "    chateaubriand=\" \".join(chateaubriand)\n",
    "    chateaubriand = chateaubriand.split(\".\")\n",
    "    \n",
    "    \n",
    "with codecs.open('testzolaargent.txt', encoding='utf-8') as f:\n",
    "    zolatest = [line.strip() for line in f]\n",
    "    zolatest=\" \".join(zolatest)\n",
    "    zolatest = zolatest.split(\".\")\n",
    "\n",
    "with codecs.open('testhugohommequirit.txt', encoding='utf-8') as f:\n",
    "    hugotest = [line.strip() for line in f]\n",
    "    hugotest=\" \".join(hugotest)\n",
    "    hugotest = hugotest.split(\".\")\n",
    "    \n",
    "with codecs.open('testproustguermantes.txt', encoding='utf-8') as f:\n",
    "    prousttest = [line.strip() for line in f]\n",
    "    prousttest=\" \".join(prousttest)\n",
    "    prousttest = prousttest.split(\".\")\n",
    "    \n",
    "with codecs.open('testchateaubriandrancé.txt', encoding='utf-8') as f:\n",
    "    chateaubriandtest = [line.strip() for line in f]\n",
    "    chateaubriandtest=\" \".join(chateaubriandtest)\n",
    "    chateaubriandtest = chateaubriandtest.split(\".\")\n",
    "#phrases exclamatives, M. etc"
   ]
  },
  {
   "cell_type": "code",
   "execution_count": 71,
   "id": "imported-niagara",
   "metadata": {},
   "outputs": [],
   "source": [
    "auteurs = { \"hugo\":0, \"zola\":1, \"proust\":2, \"chateaubriand\":3}\n",
    "df1 = pd.DataFrame({\"texte\":zola,\"auteur\":auteurs[\"zola\"],\"test\":\"train\"})\n",
    "df2=pd.DataFrame({\"texte\":hugo,\"auteur\":auteurs[\"hugo\"],\"test\":\"train\"})\n",
    "df3=pd.DataFrame({\"texte\":proust,\"auteur\":auteurs[\"proust\"],\"test\":\"train\"})\n",
    "df4=pd.DataFrame({\"texte\":chateaubriand,\"auteur\":auteurs[\"chateaubriand\"],\"test\":\"train\"})\n",
    "\n",
    "dft = pd.DataFrame({\"texte\":zolatest,\"auteur\":auteurs[\"zola\"],\"test\":\"test\"})\n",
    "dft2=pd.DataFrame({\"texte\":hugotest,\"auteur\":auteurs[\"hugo\"],\"test\":\"test\"})\n",
    "dft3=pd.DataFrame({\"texte\":prousttest,\"auteur\":auteurs[\"proust\"],\"test\":\"test\"})\n",
    "dft4=pd.DataFrame({\"texte\":chateaubriandtest,\"auteur\":auteurs[\"chateaubriand\"],\"test\":\"test\"})\n",
    "\n",
    "df=pd.concat([df1, df2, df3,df4, dft, dft2, dft3,dft4])\n",
    "df[\"texte\"] = df[\"texte\"].str.replace(r'( )\\1*', ' ', regex=True)\n",
    "df[\"longchar\"] = df[\"texte\"].str.len()\n",
    "df[\"avgmot\"] = (df[\"texte\"].str.len()+1) / (df[\"texte\"].str.count(\" \")+1)\n",
    "df[\"nbmot\"] = df[\"texte\"].str.count(\" \")+1\n",
    "df[\"nbvirgule\"] = df[\"texte\"].str.count(\",\")\n",
    "df[\"texte\"] = df.replace({'texte' : { ',' : '', ':' : '', '!' : '' }})"
   ]
  },
  {
   "cell_type": "code",
   "execution_count": 72,
   "id": "theoretical-editing",
   "metadata": {},
   "outputs": [],
   "source": [
    "x = [element.split(' ') for element in list(df[df[\"test\"] == \"train\"][\"texte\"])]\n",
    "x_testmot = [element.split(' ') for element in list(df[df[\"test\"] == \"test\"][\"texte\"])]"
   ]
  },
  {
   "cell_type": "code",
   "execution_count": 73,
   "id": "spanish-peeing",
   "metadata": {},
   "outputs": [
    {
     "data": {
      "text/plain": [
       "0    8346\n",
       "2    7421\n",
       "1    5119\n",
       "3    2313\n",
       "Name: auteur, dtype: int64"
      ]
     },
     "execution_count": 73,
     "metadata": {},
     "output_type": "execute_result"
    }
   ],
   "source": [
    "df[df[\"test\"] == \"test\"][\"auteur\"].value_counts()"
   ]
  },
  {
   "cell_type": "code",
   "execution_count": 74,
   "id": "broad-point",
   "metadata": {
    "scrolled": true
   },
   "outputs": [],
   "source": [
    "taille_vec = 200\n",
    "vec = Word2Vec(x, min_count=50,vector_size=taille_vec,sg=1)\n",
    "def get_vect(word, model):\n",
    "    try:\n",
    "        return vec.wv[word]\n",
    "    except KeyError:\n",
    "        return np.zeros((vec.vector_size,))\n",
    "\n",
    "    \n",
    "def sum_vectors(phrase, model):\n",
    "    return sum(get_vect(w, model) for w in phrase)\n",
    "    \n",
    "def word2vec_features(X, model):\n",
    "    feats = np.vstack([sum_vectors(p, model) for p in X])\n",
    "    return feats\n",
    "xsum = word2vec_features(x, vec)\n",
    "x_test = word2vec_features(x_testmot, vec)\n",
    "\n",
    "y=df[df[\"test\"] == \"train\"][\"auteur\"].to_numpy()\n",
    "y_test=df[df[\"test\"] == \"test\"][\"auteur\"].to_numpy()\n",
    "\n",
    "xsum=np.c_[ xsum,df[df[\"test\"] == \"train\"][\"longchar\"] ]\n",
    "xsum=np.c_[ xsum,df[df[\"test\"] == \"train\"][\"nbmot\"] ]\n",
    "xsum=np.c_[ xsum,df[df[\"test\"] == \"train\"][\"nbvirgule\"] ]\n",
    "xsum=np.c_[ xsum,df[df[\"test\"] == \"train\"][\"avgmot\"] ]\n",
    "#for col in range(matcv.shape[1]):\n",
    "#    xsum=np.c_[ xsum,df[df[\"test\"] == \"train\"][col] ]\n",
    "\n",
    "\n",
    "x_test=np.c_[ x_test,df[df[\"test\"] == \"test\"][\"longchar\"] ]\n",
    "x_test=np.c_[ x_test,df[df[\"test\"] == \"test\"][\"nbmot\"] ]\n",
    "x_test=np.c_[ x_test,df[df[\"test\"] == \"test\"][\"nbvirgule\"] ]\n",
    "x_test=np.c_[ x_test,df[df[\"test\"] == \"test\"][\"avgmot\"] ]\n",
    "#for col in range(matcv.shape[1]):\n",
    "#    x_test=np.c_[ x_test,df[df[\"test\"] == \"test\"][col] ]"
   ]
  },
  {
   "cell_type": "code",
   "execution_count": 75,
   "id": "considerable-original",
   "metadata": {},
   "outputs": [],
   "source": [
    "model = keras.Sequential()\n",
    "model.add(InputLayer(xsum[0].shape))\n",
    "model.add(Dense(128,activation='relu'))\n",
    "model.add(Dropout(.2))\n",
    "model.add(Dense(512,activation='relu'))\n",
    "model.add(Dropout(.2))\n",
    "model.add(Dense(64,activation='relu'))\n",
    "model.add(Dropout(.2))\n",
    "model.add(Dense(32,activation='relu'))\n",
    "model.add(Dense(4,activation='softmax'))"
   ]
  },
  {
   "cell_type": "code",
   "execution_count": 76,
   "id": "taken-discussion",
   "metadata": {
    "scrolled": true
   },
   "outputs": [
    {
     "name": "stdout",
     "output_type": "stream",
     "text": [
      "Epoch 1/20\n",
      "2292/2292 [==============================] - 6s 2ms/step - loss: 0.9251 - acc: 0.6175 - val_loss: 1.2393 - val_acc: 0.5070\n",
      "Epoch 2/20\n",
      "2292/2292 [==============================] - 5s 2ms/step - loss: 0.7113 - acc: 0.7191 - val_loss: 1.2863 - val_acc: 0.5261\n",
      "Epoch 3/20\n",
      "2292/2292 [==============================] - 5s 2ms/step - loss: 0.6750 - acc: 0.7349 - val_loss: 1.2606 - val_acc: 0.5399\n",
      "Epoch 4/20\n",
      "2292/2292 [==============================] - 5s 2ms/step - loss: 0.6596 - acc: 0.7391 - val_loss: 1.2578 - val_acc: 0.5442\n",
      "Epoch 5/20\n",
      "2292/2292 [==============================] - 5s 2ms/step - loss: 0.6470 - acc: 0.7450 - val_loss: 1.2827 - val_acc: 0.5605\n",
      "Epoch 6/20\n",
      "2292/2292 [==============================] - 5s 2ms/step - loss: 0.6370 - acc: 0.7478 - val_loss: 1.3731 - val_acc: 0.5146\n",
      "Epoch 7/20\n",
      "2292/2292 [==============================] - 5s 2ms/step - loss: 0.6304 - acc: 0.7499 - val_loss: 1.3462 - val_acc: 0.5109\n",
      "Epoch 8/20\n",
      "2292/2292 [==============================] - 5s 2ms/step - loss: 0.6232 - acc: 0.7550 - val_loss: 1.2480 - val_acc: 0.5636\n",
      "Epoch 9/20\n",
      "2292/2292 [==============================] - 5s 2ms/step - loss: 0.6185 - acc: 0.7557 - val_loss: 1.3698 - val_acc: 0.4973\n",
      "Epoch 10/20\n",
      "2292/2292 [==============================] - 5s 2ms/step - loss: 0.6106 - acc: 0.7590 - val_loss: 1.2557 - val_acc: 0.5533\n",
      "Epoch 11/20\n",
      "2292/2292 [==============================] - 6s 2ms/step - loss: 0.6111 - acc: 0.7590 - val_loss: 1.3195 - val_acc: 0.5265\n",
      "Epoch 12/20\n",
      "2292/2292 [==============================] - 5s 2ms/step - loss: 0.6054 - acc: 0.7605 - val_loss: 1.3743 - val_acc: 0.5382\n",
      "Epoch 13/20\n",
      "2292/2292 [==============================] - 5s 2ms/step - loss: 0.6017 - acc: 0.7626 - val_loss: 1.3247 - val_acc: 0.5417\n",
      "Epoch 14/20\n",
      "2292/2292 [==============================] - 5s 2ms/step - loss: 0.5994 - acc: 0.7643 - val_loss: 1.3117 - val_acc: 0.5367\n",
      "Epoch 15/20\n",
      "2292/2292 [==============================] - 5s 2ms/step - loss: 0.5968 - acc: 0.7636 - val_loss: 1.3228 - val_acc: 0.5080\n",
      "Epoch 16/20\n",
      "2292/2292 [==============================] - 6s 2ms/step - loss: 0.5924 - acc: 0.7669 - val_loss: 1.3001 - val_acc: 0.5645\n",
      "Epoch 17/20\n",
      "2292/2292 [==============================] - 5s 2ms/step - loss: 0.5896 - acc: 0.7674 - val_loss: 1.2913 - val_acc: 0.5577\n",
      "Epoch 18/20\n",
      "2292/2292 [==============================] - 6s 2ms/step - loss: 0.5872 - acc: 0.7677 - val_loss: 1.3970 - val_acc: 0.5476\n",
      "Epoch 19/20\n",
      "2292/2292 [==============================] - 5s 2ms/step - loss: 0.5896 - acc: 0.7669 - val_loss: 1.3725 - val_acc: 0.5479\n",
      "Epoch 20/20\n",
      "2292/2292 [==============================] - 6s 2ms/step - loss: 0.5837 - acc: 0.7683 - val_loss: 1.4026 - val_acc: 0.5239\n"
     ]
    },
    {
     "data": {
      "image/png": "[encoded data removed]",
      "text/plain": [
       "<Figure size 432x288 with 1 Axes>"
      ]
     },
     "metadata": {
      "needs_background": "light"
     },
     "output_type": "display_data"
    }
   ],
   "source": [
    "model.compile(optimizer=\"adam\",loss=\"sparse_categorical_crossentropy\",metrics=\"acc\")\n",
    "\n",
    "history = model.fit(xsum,y,epochs=20,validation_data=(x_test, y_test) )\n",
    "plt.plot(history.history['acc'])\n",
    "plt.plot(history.history['val_acc'])\n",
    "plt.title('model accuracy')\n",
    "plt.ylabel('accuracy')\n",
    "plt.xlabel('epoch')\n",
    "plt.legend(['train', 'val'], loc='upper left')\n",
    "plt.show()"
   ]
  },
  {
   "cell_type": "code",
   "execution_count": 77,
   "id": "geological-deployment",
   "metadata": {},
   "outputs": [
    {
     "data": {
      "image/png": "[encoded data removed]",
      "text/plain": [
       "<Figure size 432x288 with 2 Axes>"
      ]
     },
     "metadata": {
      "needs_background": "light"
     },
     "output_type": "display_data"
    }
   ],
   "source": [
    "liste_auteurs = [auteur for auteur in auteurs.keys()]\n",
    "ax=ConfusionMatrixDisplay.from_predictions(y_test,model.predict(x_test).argmax(-1),normalize=\"true\")\n"
   ]
  },
  {
   "cell_type": "code",
   "execution_count": 14,
   "id": "utility-january",
   "metadata": {},
   "outputs": [
    {
     "data": {
      "text/plain": [
       "{'hugo': 0, 'zola': 1, 'proust': 2, 'chateaubriand': 3}"
      ]
     },
     "execution_count": 14,
     "metadata": {},
     "output_type": "execute_result"
    }
   ],
   "source": [
    "auteurs"
   ]
  },
  {
   "cell_type": "code",
   "execution_count": 29,
   "id": "opposed-scientist",
   "metadata": {},
   "outputs": [],
   "source": [
    "phrase = 'Ils voulaient la fin des oppressions, la fin des tyrannies, la fin du glaive, le travail pour l’homme, l’instruction pour l’enfant, la douceur sociale pour la femme, la liberté, l’égalité, la fraternité, le pain pour tous, l’idée pour tous, l’édénisation du monde, le Progrès'\n",
    "\n",
    "longueur=len(phrase)\n",
    "virg=phrase.count(\",\")\n",
    "\n",
    "phrase=phrase.split(' ')\n",
    "mots=len(phrase)\n",
    "avgmot=longueur+1/mots+1\n",
    "apred=sum_vectors(phrase,vec)\n",
    "\n",
    "apred=np.append(apred, longueur)\n",
    "apred=np.append(apred, mots)\n",
    "apred=np.append(apred, virg)\n",
    "apred=np.append(apred, avgmot)\n",
    "apred=apred.reshape((-1,204))"
   ]
  },
  {
   "cell_type": "code",
   "execution_count": 30,
   "id": "brazilian-ending",
   "metadata": {},
   "outputs": [
    {
     "name": "stdout",
     "output_type": "stream",
     "text": [
      "hugo 100.0 %\n",
      "zola 0.0 %\n",
      "proust 0.0 %\n",
      "chateaubriand 0.0 %\n"
     ]
    }
   ],
   "source": [
    "np.set_printoptions(suppress=True)\n",
    "for i,pred in enumerate(model.predict(apred)[0]):\n",
    "    print( list(auteurs.keys())[i], np.around(pred*100),\"%\" )"
   ]
  },
  {
   "cell_type": "code",
   "execution_count": 212,
   "id": "specialized-pixel",
   "metadata": {},
   "outputs": [
    {
     "data": {
      "text/plain": [
       "1    19915\n",
       "0    15229\n",
       "2     4061\n",
       "Name: auteur, dtype: int64"
      ]
     },
     "execution_count": 212,
     "metadata": {},
     "output_type": "execute_result"
    }
   ],
   "source": [
    "df[\"auteur\"].value_counts()"
   ]
  },
  {
   "cell_type": "code",
   "execution_count": null,
   "id": "greatest-explosion",
   "metadata": {},
   "outputs": [],
   "source": []
  }
 ],
 "metadata": {
  "kernelspec": {
   "display_name": "Python 3",
   "language": "python",
   "name": "python3"
  },
  "language_info": {
   "codemirror_mode": {
    "name": "ipython",
    "version": 3
   },
   "file_extension": ".py",
   "mimetype": "text/x-python",
   "name": "python",
   "nbconvert_exporter": "python",
   "pygments_lexer": "ipython3",
   "version": "3.7.0"
  }
 },
 "nbformat": 4,
 "nbformat_minor": 5
}
